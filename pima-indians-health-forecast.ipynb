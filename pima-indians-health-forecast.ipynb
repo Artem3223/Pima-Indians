{
 "cells": [
  {
   "cell_type": "code",
   "execution_count": 1,
   "metadata": {
    "_cell_guid": "b1076dfc-b9ad-4769-8c92-a6c4dae69d19",
    "_uuid": "8f2839f25d086af736a60e9eeb907d3b93b6e0e5",
    "execution": {
     "iopub.execute_input": "2020-09-16T19:16:06.891548Z",
     "iopub.status.busy": "2020-09-16T19:16:06.890712Z",
     "iopub.status.idle": "2020-09-16T19:16:06.901960Z",
     "shell.execute_reply": "2020-09-16T19:16:06.901274Z"
    },
    "papermill": {
     "duration": 0.037125,
     "end_time": "2020-09-16T19:16:06.902104",
     "exception": false,
     "start_time": "2020-09-16T19:16:06.864979",
     "status": "completed"
    },
    "tags": []
   },
   "outputs": [
    {
     "name": "stdout",
     "output_type": "stream",
     "text": [
      "/kaggle/input/pima-indians-diabetes-database/diabetes.csv\n"
     ]
    }
   ],
   "source": [
    "# This Python 3 environment comes with many helpful analytics libraries installed\n",
    "# It is defined by the kaggle/python Docker image: https://github.com/kaggle/docker-python\n",
    "# For example, here's several helpful packages to load\n",
    "\n",
    "import numpy as np # linear algebra\n",
    "import pandas as pd # data processing, CSV file I/O (e.g. pd.read_csv)\n",
    "\n",
    "# Input data files are available in the read-only \"../input/\" directory\n",
    "# For example, running this (by clicking run or pressing Shift+Enter) will list all files under the input directory\n",
    "\n",
    "import os\n",
    "for dirname, _, filenames in os.walk('/kaggle/input'):\n",
    "    for filename in filenames:\n",
    "        print(os.path.join(dirname, filename))\n",
    "\n",
    "# You can write up to 5GB to the current directory (/kaggle/working/) that gets preserved as output when you create a version using \"Save & Run All\" \n",
    "# You can also write temporary files to /kaggle/temp/, but they won't be saved outside of the current session"
   ]
  },
  {
   "cell_type": "code",
   "execution_count": 2,
   "metadata": {
    "_cell_guid": "79c7e3d0-c299-4dcb-8224-4455121ee9b0",
    "_uuid": "d629ff2d2480ee46fbb7e2d37f6b5fab8052498a",
    "execution": {
     "iopub.execute_input": "2020-09-16T19:16:06.951461Z",
     "iopub.status.busy": "2020-09-16T19:16:06.950672Z",
     "iopub.status.idle": "2020-09-16T19:16:08.042763Z",
     "shell.execute_reply": "2020-09-16T19:16:08.041946Z"
    },
    "papermill": {
     "duration": 1.120044,
     "end_time": "2020-09-16T19:16:08.042894",
     "exception": false,
     "start_time": "2020-09-16T19:16:06.922850",
     "status": "completed"
    },
    "tags": []
   },
   "outputs": [
    {
     "data": {
      "text/html": [
       "<div>\n",
       "<style scoped>\n",
       "    .dataframe tbody tr th:only-of-type {\n",
       "        vertical-align: middle;\n",
       "    }\n",
       "\n",
       "    .dataframe tbody tr th {\n",
       "        vertical-align: top;\n",
       "    }\n",
       "\n",
       "    .dataframe thead th {\n",
       "        text-align: right;\n",
       "    }\n",
       "</style>\n",
       "<table border=\"1\" class=\"dataframe\">\n",
       "  <thead>\n",
       "    <tr style=\"text-align: right;\">\n",
       "      <th></th>\n",
       "      <th>Pregnancies</th>\n",
       "      <th>Glucose</th>\n",
       "      <th>BloodPressure</th>\n",
       "      <th>SkinThickness</th>\n",
       "      <th>Insulin</th>\n",
       "      <th>BMI</th>\n",
       "      <th>DiabetesPedigreeFunction</th>\n",
       "      <th>Age</th>\n",
       "      <th>Outcome</th>\n",
       "    </tr>\n",
       "  </thead>\n",
       "  <tbody>\n",
       "    <tr>\n",
       "      <th>0</th>\n",
       "      <td>6</td>\n",
       "      <td>148</td>\n",
       "      <td>72</td>\n",
       "      <td>35</td>\n",
       "      <td>0</td>\n",
       "      <td>33.6</td>\n",
       "      <td>0.627</td>\n",
       "      <td>50</td>\n",
       "      <td>1</td>\n",
       "    </tr>\n",
       "    <tr>\n",
       "      <th>1</th>\n",
       "      <td>1</td>\n",
       "      <td>85</td>\n",
       "      <td>66</td>\n",
       "      <td>29</td>\n",
       "      <td>0</td>\n",
       "      <td>26.6</td>\n",
       "      <td>0.351</td>\n",
       "      <td>31</td>\n",
       "      <td>0</td>\n",
       "    </tr>\n",
       "    <tr>\n",
       "      <th>2</th>\n",
       "      <td>8</td>\n",
       "      <td>183</td>\n",
       "      <td>64</td>\n",
       "      <td>0</td>\n",
       "      <td>0</td>\n",
       "      <td>23.3</td>\n",
       "      <td>0.672</td>\n",
       "      <td>32</td>\n",
       "      <td>1</td>\n",
       "    </tr>\n",
       "    <tr>\n",
       "      <th>3</th>\n",
       "      <td>1</td>\n",
       "      <td>89</td>\n",
       "      <td>66</td>\n",
       "      <td>23</td>\n",
       "      <td>94</td>\n",
       "      <td>28.1</td>\n",
       "      <td>0.167</td>\n",
       "      <td>21</td>\n",
       "      <td>0</td>\n",
       "    </tr>\n",
       "    <tr>\n",
       "      <th>4</th>\n",
       "      <td>0</td>\n",
       "      <td>137</td>\n",
       "      <td>40</td>\n",
       "      <td>35</td>\n",
       "      <td>168</td>\n",
       "      <td>43.1</td>\n",
       "      <td>2.288</td>\n",
       "      <td>33</td>\n",
       "      <td>1</td>\n",
       "    </tr>\n",
       "  </tbody>\n",
       "</table>\n",
       "</div>"
      ],
      "text/plain": [
       "   Pregnancies  Glucose  BloodPressure  SkinThickness  Insulin   BMI  \\\n",
       "0            6      148             72             35        0  33.6   \n",
       "1            1       85             66             29        0  26.6   \n",
       "2            8      183             64              0        0  23.3   \n",
       "3            1       89             66             23       94  28.1   \n",
       "4            0      137             40             35      168  43.1   \n",
       "\n",
       "   DiabetesPedigreeFunction  Age  Outcome  \n",
       "0                     0.627   50        1  \n",
       "1                     0.351   31        0  \n",
       "2                     0.672   32        1  \n",
       "3                     0.167   21        0  \n",
       "4                     2.288   33        1  "
      ]
     },
     "execution_count": 2,
     "metadata": {},
     "output_type": "execute_result"
    }
   ],
   "source": [
    "# Importing required library\n",
    "import pandas as pd\n",
    "import numpy as np\n",
    "import matplotlib.pyplot as plt\n",
    "import seaborn as sns\n",
    "%matplotlib inline\n",
    "\n",
    "# Importing dataset\n",
    "pima = pd.read_csv('/kaggle/input/pima-indians-diabetes-database/diabetes.csv')\n",
    "pima.head()"
   ]
  },
  {
   "cell_type": "code",
   "execution_count": 3,
   "metadata": {
    "execution": {
     "iopub.execute_input": "2020-09-16T19:16:08.095338Z",
     "iopub.status.busy": "2020-09-16T19:16:08.094173Z",
     "iopub.status.idle": "2020-09-16T19:16:08.134355Z",
     "shell.execute_reply": "2020-09-16T19:16:08.133648Z"
    },
    "papermill": {
     "duration": 0.072617,
     "end_time": "2020-09-16T19:16:08.134484",
     "exception": false,
     "start_time": "2020-09-16T19:16:08.061867",
     "status": "completed"
    },
    "tags": []
   },
   "outputs": [
    {
     "data": {
      "text/html": [
       "<div>\n",
       "<style scoped>\n",
       "    .dataframe tbody tr th:only-of-type {\n",
       "        vertical-align: middle;\n",
       "    }\n",
       "\n",
       "    .dataframe tbody tr th {\n",
       "        vertical-align: top;\n",
       "    }\n",
       "\n",
       "    .dataframe thead th {\n",
       "        text-align: right;\n",
       "    }\n",
       "</style>\n",
       "<table border=\"1\" class=\"dataframe\">\n",
       "  <thead>\n",
       "    <tr style=\"text-align: right;\">\n",
       "      <th></th>\n",
       "      <th>Pregnancies</th>\n",
       "      <th>Glucose</th>\n",
       "      <th>BloodPressure</th>\n",
       "      <th>SkinThickness</th>\n",
       "      <th>Insulin</th>\n",
       "      <th>BMI</th>\n",
       "      <th>DiabetesPedigreeFunction</th>\n",
       "      <th>Age</th>\n",
       "      <th>Outcome</th>\n",
       "    </tr>\n",
       "  </thead>\n",
       "  <tbody>\n",
       "    <tr>\n",
       "      <th>count</th>\n",
       "      <td>768.000000</td>\n",
       "      <td>768.000000</td>\n",
       "      <td>768.000000</td>\n",
       "      <td>768.000000</td>\n",
       "      <td>768.000000</td>\n",
       "      <td>768.000000</td>\n",
       "      <td>768.000000</td>\n",
       "      <td>768.000000</td>\n",
       "      <td>768.000000</td>\n",
       "    </tr>\n",
       "    <tr>\n",
       "      <th>mean</th>\n",
       "      <td>3.845052</td>\n",
       "      <td>120.894531</td>\n",
       "      <td>69.105469</td>\n",
       "      <td>20.536458</td>\n",
       "      <td>79.799479</td>\n",
       "      <td>31.992578</td>\n",
       "      <td>0.471876</td>\n",
       "      <td>33.240885</td>\n",
       "      <td>0.348958</td>\n",
       "    </tr>\n",
       "    <tr>\n",
       "      <th>std</th>\n",
       "      <td>3.369578</td>\n",
       "      <td>31.972618</td>\n",
       "      <td>19.355807</td>\n",
       "      <td>15.952218</td>\n",
       "      <td>115.244002</td>\n",
       "      <td>7.884160</td>\n",
       "      <td>0.331329</td>\n",
       "      <td>11.760232</td>\n",
       "      <td>0.476951</td>\n",
       "    </tr>\n",
       "    <tr>\n",
       "      <th>min</th>\n",
       "      <td>0.000000</td>\n",
       "      <td>0.000000</td>\n",
       "      <td>0.000000</td>\n",
       "      <td>0.000000</td>\n",
       "      <td>0.000000</td>\n",
       "      <td>0.000000</td>\n",
       "      <td>0.078000</td>\n",
       "      <td>21.000000</td>\n",
       "      <td>0.000000</td>\n",
       "    </tr>\n",
       "    <tr>\n",
       "      <th>25%</th>\n",
       "      <td>1.000000</td>\n",
       "      <td>99.000000</td>\n",
       "      <td>62.000000</td>\n",
       "      <td>0.000000</td>\n",
       "      <td>0.000000</td>\n",
       "      <td>27.300000</td>\n",
       "      <td>0.243750</td>\n",
       "      <td>24.000000</td>\n",
       "      <td>0.000000</td>\n",
       "    </tr>\n",
       "    <tr>\n",
       "      <th>50%</th>\n",
       "      <td>3.000000</td>\n",
       "      <td>117.000000</td>\n",
       "      <td>72.000000</td>\n",
       "      <td>23.000000</td>\n",
       "      <td>30.500000</td>\n",
       "      <td>32.000000</td>\n",
       "      <td>0.372500</td>\n",
       "      <td>29.000000</td>\n",
       "      <td>0.000000</td>\n",
       "    </tr>\n",
       "    <tr>\n",
       "      <th>75%</th>\n",
       "      <td>6.000000</td>\n",
       "      <td>140.250000</td>\n",
       "      <td>80.000000</td>\n",
       "      <td>32.000000</td>\n",
       "      <td>127.250000</td>\n",
       "      <td>36.600000</td>\n",
       "      <td>0.626250</td>\n",
       "      <td>41.000000</td>\n",
       "      <td>1.000000</td>\n",
       "    </tr>\n",
       "    <tr>\n",
       "      <th>max</th>\n",
       "      <td>17.000000</td>\n",
       "      <td>199.000000</td>\n",
       "      <td>122.000000</td>\n",
       "      <td>99.000000</td>\n",
       "      <td>846.000000</td>\n",
       "      <td>67.100000</td>\n",
       "      <td>2.420000</td>\n",
       "      <td>81.000000</td>\n",
       "      <td>1.000000</td>\n",
       "    </tr>\n",
       "  </tbody>\n",
       "</table>\n",
       "</div>"
      ],
      "text/plain": [
       "       Pregnancies     Glucose  BloodPressure  SkinThickness     Insulin  \\\n",
       "count   768.000000  768.000000     768.000000     768.000000  768.000000   \n",
       "mean      3.845052  120.894531      69.105469      20.536458   79.799479   \n",
       "std       3.369578   31.972618      19.355807      15.952218  115.244002   \n",
       "min       0.000000    0.000000       0.000000       0.000000    0.000000   \n",
       "25%       1.000000   99.000000      62.000000       0.000000    0.000000   \n",
       "50%       3.000000  117.000000      72.000000      23.000000   30.500000   \n",
       "75%       6.000000  140.250000      80.000000      32.000000  127.250000   \n",
       "max      17.000000  199.000000     122.000000      99.000000  846.000000   \n",
       "\n",
       "              BMI  DiabetesPedigreeFunction         Age     Outcome  \n",
       "count  768.000000                768.000000  768.000000  768.000000  \n",
       "mean    31.992578                  0.471876   33.240885    0.348958  \n",
       "std      7.884160                  0.331329   11.760232    0.476951  \n",
       "min      0.000000                  0.078000   21.000000    0.000000  \n",
       "25%     27.300000                  0.243750   24.000000    0.000000  \n",
       "50%     32.000000                  0.372500   29.000000    0.000000  \n",
       "75%     36.600000                  0.626250   41.000000    1.000000  \n",
       "max     67.100000                  2.420000   81.000000    1.000000  "
      ]
     },
     "execution_count": 3,
     "metadata": {},
     "output_type": "execute_result"
    }
   ],
   "source": [
    "pima.describe()"
   ]
  },
  {
   "cell_type": "code",
   "execution_count": 4,
   "metadata": {
    "execution": {
     "iopub.execute_input": "2020-09-16T19:16:08.183809Z",
     "iopub.status.busy": "2020-09-16T19:16:08.182702Z",
     "iopub.status.idle": "2020-09-16T19:16:08.186744Z",
     "shell.execute_reply": "2020-09-16T19:16:08.185964Z"
    },
    "papermill": {
     "duration": 0.032437,
     "end_time": "2020-09-16T19:16:08.186886",
     "exception": false,
     "start_time": "2020-09-16T19:16:08.154449",
     "status": "completed"
    },
    "tags": []
   },
   "outputs": [],
   "source": [
    "# Independent variable\n",
    "ind_var=pima[['Pregnancies','Glucose','BloodPressure','SkinThickness','Insulin','BMI','DiabetesPedigreeFunction','Age']]\n",
    "# dependent variable\n",
    "dep_var=pima.Outcome"
   ]
  },
  {
   "cell_type": "code",
   "execution_count": 5,
   "metadata": {
    "execution": {
     "iopub.execute_input": "2020-09-16T19:16:08.235197Z",
     "iopub.status.busy": "2020-09-16T19:16:08.234393Z",
     "iopub.status.idle": "2020-09-16T19:16:09.022310Z",
     "shell.execute_reply": "2020-09-16T19:16:09.021520Z"
    },
    "papermill": {
     "duration": 0.814863,
     "end_time": "2020-09-16T19:16:09.022437",
     "exception": false,
     "start_time": "2020-09-16T19:16:08.207574",
     "status": "completed"
    },
    "tags": []
   },
   "outputs": [
    {
     "data": {
      "image/png": "[encoded data removed]",
      "text/plain": [
       "<Figure size 432x288 with 1 Axes>"
      ]
     },
     "metadata": {
      "needs_background": "light"
     },
     "output_type": "display_data"
    }
   ],
   "source": [
    "from sklearn.ensemble import ExtraTreesClassifier\n",
    "model=ExtraTreesClassifier()\n",
    "model.fit(ind_var,dep_var)\n",
    "# Print(model.feature_importances_)\n",
    "feat_imp = pd.Series(model.feature_importances_,index=ind_var.columns)\n",
    "feat_imp.nlargest(8).plot(kind='barh')\n",
    "plt.show()"
   ]
  },
  {
   "cell_type": "code",
   "execution_count": 6,
   "metadata": {
    "execution": {
     "iopub.execute_input": "2020-09-16T19:16:09.075477Z",
     "iopub.status.busy": "2020-09-16T19:16:09.072439Z",
     "iopub.status.idle": "2020-09-16T19:16:09.986008Z",
     "shell.execute_reply": "2020-09-16T19:16:09.986630Z"
    },
    "papermill": {
     "duration": 0.941819,
     "end_time": "2020-09-16T19:16:09.986793",
     "exception": false,
     "start_time": "2020-09-16T19:16:09.044974",
     "status": "completed"
    },
    "tags": []
   },
   "outputs": [
    {
     "data": {
      "image/png": "[encoded data removed]",
      "text/plain": [
       "<Figure size 720x720 with 2 Axes>"
      ]
     },
     "metadata": {
      "needs_background": "light"
     },
     "output_type": "display_data"
    }
   ],
   "source": [
    "cor_mat=pima.corr()\n",
    "top=cor_mat.index\n",
    "plt.figure(figsize=(10,10))\n",
    "g=sns.heatmap(pima[top])"
   ]
  },
  {
   "cell_type": "code",
   "execution_count": 7,
   "metadata": {
    "execution": {
     "iopub.execute_input": "2020-09-16T19:16:10.043344Z",
     "iopub.status.busy": "2020-09-16T19:16:10.042255Z",
     "iopub.status.idle": "2020-09-16T19:16:10.047909Z",
     "shell.execute_reply": "2020-09-16T19:16:10.047158Z"
    },
    "papermill": {
     "duration": 0.037698,
     "end_time": "2020-09-16T19:16:10.048035",
     "exception": false,
     "start_time": "2020-09-16T19:16:10.010337",
     "status": "completed"
    },
    "tags": []
   },
   "outputs": [],
   "source": [
    "from sklearn.metrics import classification_report, accuracy_score  \n",
    "from sklearn.metrics import precision_score, recall_score \n",
    "from sklearn.metrics import f1_score, matthews_corrcoef \n",
    "from sklearn.metrics import confusion_matrix \n",
    "from sklearn.model_selection import train_test_split\n",
    "X_train,X_test,y_train,y_test=train_test_split(ind_var,dep_var,test_size=0.25,random_state=0)"
   ]
  },
  {
   "cell_type": "code",
   "execution_count": 8,
   "metadata": {
    "execution": {
     "iopub.execute_input": "2020-09-16T19:16:10.104681Z",
     "iopub.status.busy": "2020-09-16T19:16:10.103901Z",
     "iopub.status.idle": "2020-09-16T19:16:10.117280Z",
     "shell.execute_reply": "2020-09-16T19:16:10.116549Z"
    },
    "papermill": {
     "duration": 0.045596,
     "end_time": "2020-09-16T19:16:10.117413",
     "exception": false,
     "start_time": "2020-09-16T19:16:10.071817",
     "status": "completed"
    },
    "tags": []
   },
   "outputs": [],
   "source": [
    "# Logistic Regression Model\n",
    "from sklearn.linear_model import LogisticRegression\n",
    "lr_model = LogisticRegression(solver='liblinear')\n",
    "lr_model.fit(X_train,y_train)\n",
    "y_pred_logistic=lr_model.predict(X_test)"
   ]
  },
  {
   "cell_type": "code",
   "execution_count": 9,
   "metadata": {
    "execution": {
     "iopub.execute_input": "2020-09-16T19:16:10.173722Z",
     "iopub.status.busy": "2020-09-16T19:16:10.172820Z",
     "iopub.status.idle": "2020-09-16T19:16:10.191052Z",
     "shell.execute_reply": "2020-09-16T19:16:10.190249Z"
    },
    "papermill": {
     "duration": 0.049747,
     "end_time": "2020-09-16T19:16:10.191202",
     "exception": false,
     "start_time": "2020-09-16T19:16:10.141455",
     "status": "completed"
    },
    "tags": []
   },
   "outputs": [],
   "source": [
    "# K- Nearest Neighbor\n",
    "from sklearn.neighbors import KNeighborsClassifier\n",
    "knn_model = KNeighborsClassifier(n_neighbors=9)\n",
    "y_pred_knn = knn_model.fit(X_train, y_train).predict(X_test)"
   ]
  },
  {
   "cell_type": "code",
   "execution_count": 10,
   "metadata": {
    "execution": {
     "iopub.execute_input": "2020-09-16T19:16:10.245416Z",
     "iopub.status.busy": "2020-09-16T19:16:10.244572Z",
     "iopub.status.idle": "2020-09-16T19:16:10.256261Z",
     "shell.execute_reply": "2020-09-16T19:16:10.255539Z"
    },
    "papermill": {
     "duration": 0.041148,
     "end_time": "2020-09-16T19:16:10.256393",
     "exception": false,
     "start_time": "2020-09-16T19:16:10.215245",
     "status": "completed"
    },
    "tags": []
   },
   "outputs": [],
   "source": [
    "from sklearn.naive_bayes import GaussianNB\n",
    "nb_model = GaussianNB()\n",
    "y_pred_navie= nb_model.fit(X_train, y_train).predict(X_test)"
   ]
  },
  {
   "cell_type": "code",
   "execution_count": 11,
   "metadata": {
    "execution": {
     "iopub.execute_input": "2020-09-16T19:16:10.313302Z",
     "iopub.status.busy": "2020-09-16T19:16:10.312471Z",
     "iopub.status.idle": "2020-09-16T19:16:10.362222Z",
     "shell.execute_reply": "2020-09-16T19:16:10.362840Z"
    },
    "papermill": {
     "duration": 0.082529,
     "end_time": "2020-09-16T19:16:10.363002",
     "exception": false,
     "start_time": "2020-09-16T19:16:10.280473",
     "status": "completed"
    },
    "tags": []
   },
   "outputs": [
    {
     "name": "stderr",
     "output_type": "stream",
     "text": [
      "/opt/conda/lib/python3.7/site-packages/sklearn/svm/_base.py:977: ConvergenceWarning: Liblinear failed to converge, increase the number of iterations.\n",
      "  \"the number of iterations.\", ConvergenceWarning)\n"
     ]
    }
   ],
   "source": [
    "from sklearn.svm import LinearSVC\n",
    "svc_model = LinearSVC(random_state=0)\n",
    "y_pred_svc = svc_model.fit(X_train, y_train).predict(X_test)"
   ]
  },
  {
   "cell_type": "code",
   "execution_count": 12,
   "metadata": {
    "execution": {
     "iopub.execute_input": "2020-09-16T19:16:10.421561Z",
     "iopub.status.busy": "2020-09-16T19:16:10.420543Z",
     "iopub.status.idle": "2020-09-16T19:16:10.430208Z",
     "shell.execute_reply": "2020-09-16T19:16:10.429405Z"
    },
    "papermill": {
     "duration": 0.042284,
     "end_time": "2020-09-16T19:16:10.430337",
     "exception": false,
     "start_time": "2020-09-16T19:16:10.388053",
     "status": "completed"
    },
    "tags": []
   },
   "outputs": [],
   "source": [
    "from sklearn.tree import DecisionTreeClassifier\n",
    "dtc_model = DecisionTreeClassifier()\n",
    "y_pred_dtc = dtc_model.fit(X_train, y_train).predict(X_test)"
   ]
  },
  {
   "cell_type": "code",
   "execution_count": 13,
   "metadata": {
    "execution": {
     "iopub.execute_input": "2020-09-16T19:16:10.497094Z",
     "iopub.status.busy": "2020-09-16T19:16:10.495974Z",
     "iopub.status.idle": "2020-09-16T19:16:10.821781Z",
     "shell.execute_reply": "2020-09-16T19:16:10.822367Z"
    },
    "papermill": {
     "duration": 0.367727,
     "end_time": "2020-09-16T19:16:10.822539",
     "exception": false,
     "start_time": "2020-09-16T19:16:10.454812",
     "status": "completed"
    },
    "tags": []
   },
   "outputs": [],
   "source": [
    "from sklearn.ensemble import RandomForestClassifier\n",
    "rfc_model = RandomForestClassifier()\n",
    "y_pred_rfc = rfc_model.fit(X_train, y_train).predict(X_test)"
   ]
  },
  {
   "cell_type": "code",
   "execution_count": 14,
   "metadata": {
    "execution": {
     "iopub.execute_input": "2020-09-16T19:16:10.878270Z",
     "iopub.status.busy": "2020-09-16T19:16:10.877321Z",
     "iopub.status.idle": "2020-09-16T19:16:11.901161Z",
     "shell.execute_reply": "2020-09-16T19:16:11.902292Z"
    },
    "papermill": {
     "duration": 1.055265,
     "end_time": "2020-09-16T19:16:11.902497",
     "exception": false,
     "start_time": "2020-09-16T19:16:10.847232",
     "status": "completed"
    },
    "tags": []
   },
   "outputs": [],
   "source": [
    "import xgboost as xgb\n",
    "xgb_model = xgb.XGBClassifier()\n",
    "y_pred_xgb = xgb_model.fit(X_train, y_train).predict(X_test)"
   ]
  },
  {
   "cell_type": "code",
   "execution_count": 15,
   "metadata": {
    "execution": {
     "iopub.execute_input": "2020-09-16T19:16:11.987214Z",
     "iopub.status.busy": "2020-09-16T19:16:11.982107Z",
     "iopub.status.idle": "2020-09-16T19:16:11.996550Z",
     "shell.execute_reply": "2020-09-16T19:16:11.997645Z"
    },
    "papermill": {
     "duration": 0.061189,
     "end_time": "2020-09-16T19:16:11.997838",
     "exception": false,
     "start_time": "2020-09-16T19:16:11.936649",
     "status": "completed"
    },
    "tags": []
   },
   "outputs": [
    {
     "name": "stdout",
     "output_type": "stream",
     "text": [
      "Accuracy: 0.8072916666666666\n",
      "Precision: 0.7659574468085106\n",
      "Recall: 0.5806451612903226\n",
      "F-Score: 0.6605504587155964\n"
     ]
    }
   ],
   "source": [
    "import math as mt\n",
    "from sklearn import metrics\n",
    "\n",
    "print(\"Accuracy:\",metrics.accuracy_score(y_test, y_pred_logistic))\n",
    "print(\"Precision:\",metrics.precision_score(y_test, y_pred_logistic))\n",
    "print(\"Recall:\",metrics.recall_score(y_test, y_pred_logistic))\n",
    "print(\"F-Score:\",metrics.f1_score(y_test, y_pred_logistic))"
   ]
  },
  {
   "cell_type": "code",
   "execution_count": 16,
   "metadata": {
    "execution": {
     "iopub.execute_input": "2020-09-16T19:16:12.081199Z",
     "iopub.status.busy": "2020-09-16T19:16:12.077965Z",
     "iopub.status.idle": "2020-09-16T19:16:12.091647Z",
     "shell.execute_reply": "2020-09-16T19:16:12.092893Z"
    },
    "papermill": {
     "duration": 0.061701,
     "end_time": "2020-09-16T19:16:12.093141",
     "exception": false,
     "start_time": "2020-09-16T19:16:12.031440",
     "status": "completed"
    },
    "tags": []
   },
   "outputs": [
    {
     "name": "stdout",
     "output_type": "stream",
     "text": [
      "Accuracy for K neighbor Classifier : 0.7708333333333334\n",
      "Precision for K neighbor Classifier : 0.6666666666666666\n",
      "Recall for K neighbor Classifier : 0.5806451612903226\n",
      "F-Score for K neighbor Classifier : 0.6206896551724138\n"
     ]
    }
   ],
   "source": [
    "print(\"Accuracy for K neighbor Classifier :\",metrics.accuracy_score (y_test, y_pred_knn))\n",
    "print(\"Precision for K neighbor Classifier :\", metrics.precision_score(y_test, y_pred_knn))\n",
    "print(\"Recall for K neighbor Classifier :\", metrics.recall_score(y_test, y_pred_knn))\n",
    "print(\"F-Score for K neighbor Classifier :\",metrics.f1_score(y_test, y_pred_knn))"
   ]
  },
  {
   "cell_type": "code",
   "execution_count": 17,
   "metadata": {
    "execution": {
     "iopub.execute_input": "2020-09-16T19:16:12.154755Z",
     "iopub.status.busy": "2020-09-16T19:16:12.153892Z",
     "iopub.status.idle": "2020-09-16T19:16:12.166789Z",
     "shell.execute_reply": "2020-09-16T19:16:12.167528Z"
    },
    "papermill": {
     "duration": 0.047884,
     "end_time": "2020-09-16T19:16:12.167699",
     "exception": false,
     "start_time": "2020-09-16T19:16:12.119815",
     "status": "completed"
    },
    "tags": []
   },
   "outputs": [
    {
     "name": "stdout",
     "output_type": "stream",
     "text": [
      "Accuracy for naive baiyes : 0.765625\n",
      "Precision for naive baiyes : 0.673469387755102\n",
      "Recall for naive baiyes : 0.532258064516129\n",
      "F-Score for naive baiyes : 0.5945945945945945\n"
     ]
    }
   ],
   "source": [
    "print(\"Accuracy for naive baiyes :\",metrics.accuracy_score(y_test, y_pred_navie))\n",
    "print(\"Precision for naive baiyes :\",metrics.precision_score(y_test, y_pred_navie))\n",
    "print(\"Recall for naive baiyes :\",metrics.recall_score(y_test, y_pred_navie))\n",
    "print(\"F-Score for naive baiyes :\",metrics.f1_score(y_test, y_pred_navie))"
   ]
  },
  {
   "cell_type": "code",
   "execution_count": 18,
   "metadata": {
    "execution": {
     "iopub.execute_input": "2020-09-16T19:16:12.232659Z",
     "iopub.status.busy": "2020-09-16T19:16:12.231773Z",
     "iopub.status.idle": "2020-09-16T19:16:12.244805Z",
     "shell.execute_reply": "2020-09-16T19:16:12.245523Z"
    },
    "papermill": {
     "duration": 0.049502,
     "end_time": "2020-09-16T19:16:12.245699",
     "exception": false,
     "start_time": "2020-09-16T19:16:12.196197",
     "status": "completed"
    },
    "tags": []
   },
   "outputs": [
    {
     "name": "stdout",
     "output_type": "stream",
     "text": [
      "Accuracy for Support vector machine : 0.6822916666666666\n",
      "Precision for Support vector machine : 1.0\n",
      "Recall for Support vector machine : 0.016129032258064516\n",
      "F-Score for Support vector machine : 0.031746031746031744\n"
     ]
    }
   ],
   "source": [
    "print(\"Accuracy for Support vector machine :\",metrics.accuracy_score(y_test, y_pred_svc))\n",
    "print(\"Precision for Support vector machine :\",metrics.precision_score(y_test, y_pred_svc))\n",
    "print(\"Recall for Support vector machine :\",metrics.recall_score(y_test, y_pred_svc))\n",
    "print(\"F-Score for Support vector machine :\",metrics.f1_score(y_test, y_pred_svc))"
   ]
  },
  {
   "cell_type": "code",
   "execution_count": 19,
   "metadata": {
    "execution": {
     "iopub.execute_input": "2020-09-16T19:16:12.309262Z",
     "iopub.status.busy": "2020-09-16T19:16:12.308243Z",
     "iopub.status.idle": "2020-09-16T19:16:12.319244Z",
     "shell.execute_reply": "2020-09-16T19:16:12.318383Z"
    },
    "papermill": {
     "duration": 0.045459,
     "end_time": "2020-09-16T19:16:12.319376",
     "exception": false,
     "start_time": "2020-09-16T19:16:12.273917",
     "status": "completed"
    },
    "tags": []
   },
   "outputs": [
    {
     "name": "stdout",
     "output_type": "stream",
     "text": [
      "Accuracy for Decision tree classifier : 0.7447916666666666\n",
      "Recall for Decision tree classifier : 0.6129032258064516\n",
      "F-Score for Decision tree classifier : 0.608\n"
     ]
    }
   ],
   "source": [
    "print(\"Accuracy for Decision tree classifier :\",metrics.accuracy_score(y_test, y_pred_dtc))\n",
    "print(\"Recall for Decision tree classifier :\",metrics.recall_score(y_test, y_pred_dtc))\n",
    "print(\"F-Score for Decision tree classifier :\",metrics.f1_score(y_test, y_pred_dtc))"
   ]
  },
  {
   "cell_type": "code",
   "execution_count": 20,
   "metadata": {
    "execution": {
     "iopub.execute_input": "2020-09-16T19:16:12.385394Z",
     "iopub.status.busy": "2020-09-16T19:16:12.384109Z",
     "iopub.status.idle": "2020-09-16T19:16:12.396055Z",
     "shell.execute_reply": "2020-09-16T19:16:12.395394Z"
    },
    "papermill": {
     "duration": 0.048575,
     "end_time": "2020-09-16T19:16:12.396201",
     "exception": false,
     "start_time": "2020-09-16T19:16:12.347626",
     "status": "completed"
    },
    "tags": []
   },
   "outputs": [
    {
     "name": "stdout",
     "output_type": "stream",
     "text": [
      "Accuracy for Random forest classifier : 0.7760416666666666\n",
      "Precision for Random forest classifier : 0.6862745098039216\n",
      "Recall for Random forest classifier : 0.5645161290322581\n",
      "F-Score for Random forest classifier : 0.6194690265486725\n"
     ]
    }
   ],
   "source": [
    "print(\"Accuracy for Random forest classifier :\",metrics.accuracy_score(y_test, y_pred_rfc))\n",
    "print(\"Precision for Random forest classifier :\",metrics.precision_score(y_test,y_pred_rfc))\n",
    "print(\"Recall for Random forest classifier :\",metrics.recall_score(y_test, y_pred_rfc))\n",
    "print(\"F-Score for Random forest classifier :\",metrics.f1_score(y_test, y_pred_rfc))"
   ]
  },
  {
   "cell_type": "code",
   "execution_count": 21,
   "metadata": {
    "execution": {
     "iopub.execute_input": "2020-09-16T19:16:12.467663Z",
     "iopub.status.busy": "2020-09-16T19:16:12.466433Z",
     "iopub.status.idle": "2020-09-16T19:16:12.478960Z",
     "shell.execute_reply": "2020-09-16T19:16:12.478154Z"
    },
    "papermill": {
     "duration": 0.053073,
     "end_time": "2020-09-16T19:16:12.479094",
     "exception": false,
     "start_time": "2020-09-16T19:16:12.426021",
     "status": "completed"
    },
    "tags": []
   },
   "outputs": [
    {
     "name": "stdout",
     "output_type": "stream",
     "text": [
      "   Model     Score\n",
      "0     LR  0.807292\n",
      "1    KNN  0.770833\n",
      "2  NAVIE  0.765625\n",
      "3    SVC  0.682292\n",
      "4    DTC  0.744792\n",
      "5    RFC  0.776042\n",
      "6    XGB  0.760417\n"
     ]
    }
   ],
   "source": [
    "log = metrics.accuracy_score(y_test, y_pred_logistic)\n",
    "knn = metrics.accuracy_score(y_test, y_pred_knn)\n",
    "navie = metrics.accuracy_score(y_test, y_pred_navie)\n",
    "svc= metrics.accuracy_score(y_test, y_pred_svc)\n",
    "dtc = metrics.accuracy_score(y_test, y_pred_dtc)\n",
    "rfc = metrics.accuracy_score(y_test, y_pred_rfc)\n",
    "xgb = metrics.accuracy_score(y_test, y_pred_xgb)\n",
    "model = ['LR','KNN','NAVIE','SVC','DTC','RFC', 'XGB']\n",
    "accuracy=[log,knn,navie,svc,dtc,rfc, xgb]\n",
    "data = pd.DataFrame({'Model': model, 'Score': accuracy})\n",
    "print(data)"
   ]
  },
  {
   "cell_type": "code",
   "execution_count": 22,
   "metadata": {
    "execution": {
     "iopub.execute_input": "2020-09-16T19:16:12.553600Z",
     "iopub.status.busy": "2020-09-16T19:16:12.548422Z",
     "iopub.status.idle": "2020-09-16T19:16:12.735518Z",
     "shell.execute_reply": "2020-09-16T19:16:12.734607Z"
    },
    "papermill": {
     "duration": 0.227076,
     "end_time": "2020-09-16T19:16:12.735676",
     "exception": false,
     "start_time": "2020-09-16T19:16:12.508600",
     "status": "completed"
    },
    "tags": []
   },
   "outputs": [
    {
     "data": {
      "image/png": "[encoded data removed]",
      "text/plain": [
       "<Figure size 432x288 with 1 Axes>"
      ]
     },
     "metadata": {
      "needs_background": "light"
     },
     "output_type": "display_data"
    }
   ],
   "source": [
    "a = sns.barplot(x = 'Model', y = 'Score', data = data)\n",
    "a.set(xlabel='Models', ylabel='Accuracy Score')\n",
    "for p in a.patches:\n",
    "    height = p.get_height()\n",
    "    a.text(p.get_x() + p.get_width()/2, height + 0.005, '{:1.4f}'.format(height), ha=\"center\")\n",
    "    plt.show()"
   ]
  }
 ],
 "metadata": {
  "kernelspec": {
   "display_name": "Python 3",
   "language": "python",
   "name": "python3"
  },
  "language_info": {
   "codemirror_mode": {
    "name": "ipython",
    "version": 3
   },
   "file_extension": ".py",
   "mimetype": "text/x-python",
   "name": "python",
   "nbconvert_exporter": "python",
   "pygments_lexer": "ipython3",
   "version": "3.7.6"
  },
  "papermill": {
   "duration": 10.992527,
   "end_time": "2020-09-16T19:16:12.875332",
   "environment_variables": {},
   "exception": null,
   "input_path": "__notebook__.ipynb",
   "output_path": "__notebook__.ipynb",
   "parameters": {},
   "start_time": "2020-09-16T19:16:01.882805",
   "version": "2.1.0"
  }
 },
 "nbformat": 4,
 "nbformat_minor": 4
}
